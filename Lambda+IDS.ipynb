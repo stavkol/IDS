{
  "nbformat": 4,
  "nbformat_minor": 0,
  "metadata": {
    "colab": {
      "provenance": []
    },
    "kernelspec": {
      "name": "python3",
      "display_name": "Python 3"
    },
    "language_info": {
      "name": "python"
    }
  },
  "cells": [
    {
      "cell_type": "markdown",
      "metadata": {
        "id": "view-in-github"
      },
      "source": [
        "<a href=\"https://colab.research.google.com/github/kdemertzis/EKPA/blob/main/Lambda_IDS.ipynb\" target=\"_parent\"><img src=\"https://colab.research.google.com/assets/colab-badge.svg\" alt=\"Open In Colab\"/></a>"
      ]
    },
    {
      "cell_type": "code",
      "execution_count": 1,
      "metadata": {
        "colab": {
          "base_uri": "https://localhost:8080/"
        },
        "id": "FMYBJpBujxX1",
        "outputId": "048c3897-045f-4ec1-f931-b87ee19a7a0d"
      },
      "outputs": [
        {
          "output_type": "stream",
          "name": "stdout",
          "text": [
            "Requirement already satisfied: tensorflow in /usr/local/lib/python3.10/dist-packages (2.15.0)\n",
            "Requirement already satisfied: absl-py>=1.0.0 in /usr/local/lib/python3.10/dist-packages (from tensorflow) (1.4.0)\n",
            "Requirement already satisfied: astunparse>=1.6.0 in /usr/local/lib/python3.10/dist-packages (from tensorflow) (1.6.3)\n",
            "Requirement already satisfied: flatbuffers>=23.5.26 in /usr/local/lib/python3.10/dist-packages (from tensorflow) (24.3.25)\n",
            "Requirement already satisfied: gast!=0.5.0,!=0.5.1,!=0.5.2,>=0.2.1 in /usr/local/lib/python3.10/dist-packages (from tensorflow) (0.6.0)\n",
            "Requirement already satisfied: google-pasta>=0.1.1 in /usr/local/lib/python3.10/dist-packages (from tensorflow) (0.2.0)\n",
            "Requirement already satisfied: h5py>=2.9.0 in /usr/local/lib/python3.10/dist-packages (from tensorflow) (3.11.0)\n",
            "Requirement already satisfied: libclang>=13.0.0 in /usr/local/lib/python3.10/dist-packages (from tensorflow) (18.1.1)\n",
            "Requirement already satisfied: ml-dtypes~=0.2.0 in /usr/local/lib/python3.10/dist-packages (from tensorflow) (0.2.0)\n",
            "Requirement already satisfied: numpy<2.0.0,>=1.23.5 in /usr/local/lib/python3.10/dist-packages (from tensorflow) (1.25.2)\n",
            "Requirement already satisfied: opt-einsum>=2.3.2 in /usr/local/lib/python3.10/dist-packages (from tensorflow) (3.3.0)\n",
            "Requirement already satisfied: packaging in /usr/local/lib/python3.10/dist-packages (from tensorflow) (24.1)\n",
            "Requirement already satisfied: protobuf!=4.21.0,!=4.21.1,!=4.21.2,!=4.21.3,!=4.21.4,!=4.21.5,<5.0.0dev,>=3.20.3 in /usr/local/lib/python3.10/dist-packages (from tensorflow) (3.20.3)\n",
            "Requirement already satisfied: setuptools in /usr/local/lib/python3.10/dist-packages (from tensorflow) (71.0.4)\n",
            "Requirement already satisfied: six>=1.12.0 in /usr/local/lib/python3.10/dist-packages (from tensorflow) (1.16.0)\n",
            "Requirement already satisfied: termcolor>=1.1.0 in /usr/local/lib/python3.10/dist-packages (from tensorflow) (2.4.0)\n",
            "Requirement already satisfied: typing-extensions>=3.6.6 in /usr/local/lib/python3.10/dist-packages (from tensorflow) (4.12.2)\n",
            "Requirement already satisfied: wrapt<1.15,>=1.11.0 in /usr/local/lib/python3.10/dist-packages (from tensorflow) (1.14.1)\n",
            "Requirement already satisfied: tensorflow-io-gcs-filesystem>=0.23.1 in /usr/local/lib/python3.10/dist-packages (from tensorflow) (0.37.1)\n",
            "Requirement already satisfied: grpcio<2.0,>=1.24.3 in /usr/local/lib/python3.10/dist-packages (from tensorflow) (1.64.1)\n",
            "Requirement already satisfied: tensorboard<2.16,>=2.15 in /usr/local/lib/python3.10/dist-packages (from tensorflow) (2.15.2)\n",
            "Requirement already satisfied: tensorflow-estimator<2.16,>=2.15.0 in /usr/local/lib/python3.10/dist-packages (from tensorflow) (2.15.0)\n",
            "Requirement already satisfied: keras<2.16,>=2.15.0 in /usr/local/lib/python3.10/dist-packages (from tensorflow) (2.15.0)\n",
            "Requirement already satisfied: wheel<1.0,>=0.23.0 in /usr/local/lib/python3.10/dist-packages (from astunparse>=1.6.0->tensorflow) (0.43.0)\n",
            "Requirement already satisfied: google-auth<3,>=1.6.3 in /usr/local/lib/python3.10/dist-packages (from tensorboard<2.16,>=2.15->tensorflow) (2.27.0)\n",
            "Requirement already satisfied: google-auth-oauthlib<2,>=0.5 in /usr/local/lib/python3.10/dist-packages (from tensorboard<2.16,>=2.15->tensorflow) (1.2.1)\n",
            "Requirement already satisfied: markdown>=2.6.8 in /usr/local/lib/python3.10/dist-packages (from tensorboard<2.16,>=2.15->tensorflow) (3.6)\n",
            "Requirement already satisfied: requests<3,>=2.21.0 in /usr/local/lib/python3.10/dist-packages (from tensorboard<2.16,>=2.15->tensorflow) (2.31.0)\n",
            "Requirement already satisfied: tensorboard-data-server<0.8.0,>=0.7.0 in /usr/local/lib/python3.10/dist-packages (from tensorboard<2.16,>=2.15->tensorflow) (0.7.2)\n",
            "Requirement already satisfied: werkzeug>=1.0.1 in /usr/local/lib/python3.10/dist-packages (from tensorboard<2.16,>=2.15->tensorflow) (3.0.3)\n",
            "Requirement already satisfied: cachetools<6.0,>=2.0.0 in /usr/local/lib/python3.10/dist-packages (from google-auth<3,>=1.6.3->tensorboard<2.16,>=2.15->tensorflow) (5.4.0)\n",
            "Requirement already satisfied: pyasn1-modules>=0.2.1 in /usr/local/lib/python3.10/dist-packages (from google-auth<3,>=1.6.3->tensorboard<2.16,>=2.15->tensorflow) (0.4.0)\n",
            "Requirement already satisfied: rsa<5,>=3.1.4 in /usr/local/lib/python3.10/dist-packages (from google-auth<3,>=1.6.3->tensorboard<2.16,>=2.15->tensorflow) (4.9)\n",
            "Requirement already satisfied: requests-oauthlib>=0.7.0 in /usr/local/lib/python3.10/dist-packages (from google-auth-oauthlib<2,>=0.5->tensorboard<2.16,>=2.15->tensorflow) (1.3.1)\n",
            "Requirement already satisfied: charset-normalizer<4,>=2 in /usr/local/lib/python3.10/dist-packages (from requests<3,>=2.21.0->tensorboard<2.16,>=2.15->tensorflow) (3.3.2)\n",
            "Requirement already satisfied: idna<4,>=2.5 in /usr/local/lib/python3.10/dist-packages (from requests<3,>=2.21.0->tensorboard<2.16,>=2.15->tensorflow) (3.7)\n",
            "Requirement already satisfied: urllib3<3,>=1.21.1 in /usr/local/lib/python3.10/dist-packages (from requests<3,>=2.21.0->tensorboard<2.16,>=2.15->tensorflow) (2.0.7)\n",
            "Requirement already satisfied: certifi>=2017.4.17 in /usr/local/lib/python3.10/dist-packages (from requests<3,>=2.21.0->tensorboard<2.16,>=2.15->tensorflow) (2024.7.4)\n",
            "Requirement already satisfied: MarkupSafe>=2.1.1 in /usr/local/lib/python3.10/dist-packages (from werkzeug>=1.0.1->tensorboard<2.16,>=2.15->tensorflow) (2.1.5)\n",
            "Requirement already satisfied: pyasn1<0.7.0,>=0.4.6 in /usr/local/lib/python3.10/dist-packages (from pyasn1-modules>=0.2.1->google-auth<3,>=1.6.3->tensorboard<2.16,>=2.15->tensorflow) (0.6.0)\n",
            "Requirement already satisfied: oauthlib>=3.0.0 in /usr/local/lib/python3.10/dist-packages (from requests-oauthlib>=0.7.0->google-auth-oauthlib<2,>=0.5->tensorboard<2.16,>=2.15->tensorflow) (3.2.2)\n",
            "Requirement already satisfied: scikit-learn in /usr/local/lib/python3.10/dist-packages (1.3.2)\n",
            "Requirement already satisfied: numpy<2.0,>=1.17.3 in /usr/local/lib/python3.10/dist-packages (from scikit-learn) (1.25.2)\n",
            "Requirement already satisfied: scipy>=1.5.0 in /usr/local/lib/python3.10/dist-packages (from scikit-learn) (1.13.1)\n",
            "Requirement already satisfied: joblib>=1.1.1 in /usr/local/lib/python3.10/dist-packages (from scikit-learn) (1.4.2)\n",
            "Requirement already satisfied: threadpoolctl>=2.0.0 in /usr/local/lib/python3.10/dist-packages (from scikit-learn) (3.5.0)\n"
          ]
        }
      ],
      "source": [
        "#εγκατάσταση πακέτου tensorflow (hhttps://www.tensorflow.org/)\n",
        "!pip install tensorflow\n",
        "#εγκατάσταση πακέτου scikit-learn (https://scikit-learn.org/)\n",
        "!pip install scikit-learn"
      ]
    },
    {
      "cell_type": "code",
      "source": [
        "#εισαγωγή βιβλιοθηκών - πακέτων\n",
        "import numpy as np\n",
        "import pandas as pd\n",
        "from tensorflow.keras.utils import plot_model, to_categorical\n",
        "from sklearn.metrics import confusion_matrix\n",
        "from keras.callbacks import EarlyStopping,  ModelCheckpoint\n",
        "from sklearn.model_selection import train_test_split\n",
        "from sklearn.preprocessing import StandardScaler\n",
        "from tensorflow.keras.models import Sequential, load_model\n",
        "from tensorflow.keras.layers import Dense, Dropout\n",
        "from tensorflow.keras.callbacks import EarlyStopping, ModelCheckpoint\n",
        "from sklearn.metrics import classification_report\n",
        "import matplotlib.pyplot as plt\n",
        "import os\n",
        "from sklearn.utils import class_weight\n",
        "\n",
        "\n",
        "\n",
        "\n"
      ],
      "metadata": {
        "collapsed": true,
        "id": "NKteLMvn50yf"
      },
      "execution_count": 5,
      "outputs": []
    },
    {
      "cell_type": "code",
      "source": [
        "epochs = 100\n",
        "nclass = 12\n",
        "batch_size = [32, 64, 128, 256, 512, 1024]"
      ],
      "metadata": {
        "id": "1EYRGhjGKA9O"
      },
      "execution_count": 29,
      "outputs": []
    },
    {
      "cell_type": "code",
      "source": [
        "#συνάρτηση εισαγωγής συνόλου δεδομένων\n",
        "def load_dataset(url='https://raw.githubusercontent.com/kdemertzis/EKPA/main/Data/pcap_data.csv'):\n",
        "    df = pd.read_csv(url)\n",
        "    X = df.drop('target', axis=1).values\n",
        "    y = df['target'].values\n",
        "    return X, y"
      ],
      "metadata": {
        "id": "Ju0ccl6nAAbq"
      },
      "execution_count": 30,
      "outputs": []
    },
    {
      "cell_type": "code",
      "source": [
        "#συνάρτηση δημιουργίας και εκπαίδευσης νευρωνικού δικτύου\n",
        "def create_and_train_model(input_dim):\n",
        "    model = Sequential()\n",
        "    model.add(Dense(256, input_dim=input_dim, activation='relu'))\n",
        "    model.add(Dropout(0.5))\n",
        "    model.add(Dense(128, activation='relu'))\n",
        "    model.add(Dropout(0.5))\n",
        "    model.add(Dense(64, activation='relu'))\n",
        "    model.add(Dense(3, activation='softmax'))\n",
        "    model.compile(optimizer='adam', loss='sparse_categorical_crossentropy', metrics=['accuracy'])\n",
        "    return model"
      ],
      "metadata": {
        "id": "z9q7Qmp6AMe0"
      },
      "execution_count": 8,
      "outputs": []
    },
    {
      "cell_type": "code",
      "source": [
        "#συνάρτηση αξιολόγησης μοντέλου και εκτύπωσης αποτελέσματων κατηγοριοποίησης\n",
        "def evaluate_model(model, X_test, y_test):\n",
        "    y_pred_probs = model.predict(X_test)\n",
        "    y_pred = np.argmax(y_pred_probs, axis=1)\n",
        "    accuracy = classification_report(y_test, y_pred, output_dict=True)\n",
        "    return accuracy['accuracy']"
      ],
      "metadata": {
        "id": "atn0PMsyAbss"
      },
      "execution_count": 9,
      "outputs": []
    },
    {
      "cell_type": "code",
      "source": [
        "#συνάρτηση προσομοίωσης \"λ\" αρχιτεκτονικής με επανεκπαίδευση μετά από πλήθος ροών δεδομένων (streaming lambda architecture with periodic retraining)\n",
        "def simulate_streaming_lambda_architecture(csv_file_path, model, scaler, batch_size=500, retrain_every_batches=800, total_batches=8000):\n",
        "    batch_counter = 0\n",
        "    train_accuracies = []\n",
        "    test_accuracies = []\n",
        "\n",
        "    while batch_counter < total_batches:\n",
        "        #φόρτωση συνόλου δεδομένων από csv αρχείο\n",
        "        X, y = load_dataset(csv_file_path)\n",
        "\n",
        "        #τυποποίηση (standardize) δεδομένων\n",
        "        X = scaler.transform(X)\n",
        "\n",
        "        #κατάτμηση δεδομένων σε ροές (batches)\n",
        "        for i in range(0, len(X), batch_size):\n",
        "            batch_counter += 1\n",
        "            X_batch = X[i:i + batch_size]\n",
        "            y_batch = y[i:i + batch_size]\n",
        "\n",
        "            #εκπαίδευση μοντέλου με κάθε ροή δεδομένων\n",
        "            model.train_on_batch(X_batch, y_batch)\n",
        "\n",
        "            #περιοδική εκπαίδευση μοντέλου με όλα τα δεδομένα\n",
        "            if batch_counter % retrain_every_batches == 0:\n",
        "                #τμηματοποίηση δεδομένων σε σύνολα εκπαίδευσης και δοκιμών\n",
        "                X_train, X_test, y_train, y_test = train_test_split(X, y, test_size=0.2, random_state=42)\n",
        "\n",
        "                #επανεκπαίδευση μοντέλου με όλα τα δεδομένα\n",
        "                model = create_and_train_model(X_train.shape[1])\n",
        "                model.fit(X_train, y_train, epochs=5, batch_size=64)  # Train for a few epochs\n",
        "\n",
        "                #αποθήκευση των βαρών (weights) του μοντέλου για μελλοντική επανεκπαίδευση\n",
        "                model.save('model_weights.keras')\n",
        "\n",
        "                #αξιολόγηση του μοντέλου στα σύνολα εκπαίδευσης και δοκιμών\n",
        "                train_accuracy = evaluate_model(model, X_train, y_train)\n",
        "                test_accuracy = evaluate_model(model, X_test, y_test)\n",
        "\n",
        "                train_accuracies.append(train_accuracy)\n",
        "                test_accuracies.append(test_accuracy)\n",
        "\n",
        "                print(f\"Batch {batch_counter}, Training Accuracy: {train_accuracy:.4f}, Test Accuracy: {test_accuracy:.4f}\")\n",
        "\n",
        "    #εκτύπωση γραφικής απεικόνισης ακρίβειας μοντέλου\n",
        "    plt.plot(range(1, total_batches+1, retrain_every_batches), train_accuracies, label='Training Accuracy')\n",
        "    plt.plot(range(1, total_batches+1, retrain_every_batches), test_accuracies, label='Test Accuracy')\n",
        "    plt.xlabel('Batch Number')\n",
        "    plt.ylabel('Accuracy')\n",
        "    plt.title('Training and Test Accuracy Over Batches')\n",
        "    plt.legend()\n",
        "    plt.show()"
      ],
      "metadata": {
        "id": "ZqB6dkyOAtEH"
      },
      "execution_count": 14,
      "outputs": []
    },
    {
      "cell_type": "code",
      "source": [
        "#θέση αρχείου csv με το σύνολο δεδομένων\n",
        "csv_file_path = 'https://raw.githubusercontent.com/kdemertzis/EKPA/main/Data/pcap_data.csv'"
      ],
      "metadata": {
        "id": "UlnEKorYCoeq"
      },
      "execution_count": 15,
      "outputs": []
    },
    {
      "cell_type": "code",
      "source": [
        "#τυποποίηση (standardize) δεδομένων\n",
        "scaler = StandardScaler()"
      ],
      "metadata": {
        "id": "--1WU5nBDIRb"
      },
      "execution_count": 16,
      "outputs": []
    },
    {
      "cell_type": "code",
      "source": [
        "#φόρτωση συνόλου δεδομένων\n",
        "X, y = load_dataset(csv_file_path)\n",
        "X = scaler.fit_transform(X)"
      ],
      "metadata": {
        "id": "Il_iJbHsDKbe"
      },
      "execution_count": 17,
      "outputs": []
    },
    {
      "cell_type": "code",
      "source": [
        "#εκπαίδευση μοντέλου\n",
        "X_train, X_test, y_train, y_test = train_test_split(X, y, test_size=0.2, random_state=42)\n",
        "X_train, X_val, y_train, y_val = train_test_split(X_train, y_train, test_size=0.2, random_state=42)\n",
        "model = create_and_train_model(X_train.shape[1])"
      ],
      "metadata": {
        "id": "SBlnsi6kDMv3"
      },
      "execution_count": 18,
      "outputs": []
    },
    {
      "cell_type": "code",
      "source": [
        "#εκκίνηση προσομοίωσης \"λ\" αρχιτεκτονικής με επανεκπαίδευση μοντέλου\n",
        "simulate_streaming_lambda_architecture(csv_file_path, model, scaler)"
      ],
      "metadata": {
        "id": "Vwtbid-eDPRv",
        "outputId": "fd7bb6ae-101b-49ce-b6f7-8514cc58c78a",
        "colab": {
          "base_uri": "https://localhost:8080/",
          "height": 1000
        }
      },
      "execution_count": 19,
      "outputs": [
        {
          "output_type": "stream",
          "name": "stdout",
          "text": [
            "Epoch 1/5\n",
            "188/188 [==============================] - 3s 7ms/step - loss: 0.6612 - accuracy: 0.7375\n",
            "Epoch 2/5\n",
            "188/188 [==============================] - 1s 4ms/step - loss: 0.4723 - accuracy: 0.8547\n",
            "Epoch 3/5\n",
            "188/188 [==============================] - 1s 4ms/step - loss: 0.4315 - accuracy: 0.8793\n",
            "Epoch 4/5\n",
            "188/188 [==============================] - 1s 4ms/step - loss: 0.4176 - accuracy: 0.8869\n",
            "Epoch 5/5\n",
            "188/188 [==============================] - 1s 4ms/step - loss: 0.4039 - accuracy: 0.8914\n",
            "375/375 [==============================] - 1s 1ms/step\n",
            "94/94 [==============================] - 0s 2ms/step\n",
            "Batch 800, Training Accuracy: 0.9160, Test Accuracy: 0.9045\n",
            "Epoch 1/5\n",
            "188/188 [==============================] - 2s 4ms/step - loss: 0.6667 - accuracy: 0.7383\n",
            "Epoch 2/5\n",
            "188/188 [==============================] - 1s 5ms/step - loss: 0.4818 - accuracy: 0.8517\n",
            "Epoch 3/5\n",
            "188/188 [==============================] - 1s 6ms/step - loss: 0.4413 - accuracy: 0.8751\n",
            "Epoch 4/5\n",
            "188/188 [==============================] - 1s 6ms/step - loss: 0.4187 - accuracy: 0.8842\n",
            "Epoch 5/5\n",
            "188/188 [==============================] - 1s 6ms/step - loss: 0.4053 - accuracy: 0.8943\n",
            "375/375 [==============================] - 1s 2ms/step\n",
            "94/94 [==============================] - 0s 2ms/step\n",
            "Batch 1600, Training Accuracy: 0.9162, Test Accuracy: 0.9035\n",
            "Epoch 1/5\n",
            "188/188 [==============================] - 2s 4ms/step - loss: 0.6571 - accuracy: 0.7433\n",
            "Epoch 2/5\n",
            "188/188 [==============================] - 1s 5ms/step - loss: 0.4790 - accuracy: 0.8502\n",
            "Epoch 3/5\n",
            "188/188 [==============================] - 1s 5ms/step - loss: 0.4423 - accuracy: 0.8753\n",
            "Epoch 4/5\n",
            "188/188 [==============================] - 1s 5ms/step - loss: 0.4210 - accuracy: 0.8882\n",
            "Epoch 5/5\n",
            "188/188 [==============================] - 1s 5ms/step - loss: 0.4042 - accuracy: 0.8915\n",
            "375/375 [==============================] - 1s 3ms/step\n",
            "94/94 [==============================] - 0s 3ms/step\n",
            "Batch 2400, Training Accuracy: 0.9138, Test Accuracy: 0.9035\n",
            "Epoch 1/5\n",
            "188/188 [==============================] - 2s 4ms/step - loss: 0.6579 - accuracy: 0.7454\n",
            "Epoch 2/5\n",
            "188/188 [==============================] - 1s 4ms/step - loss: 0.4820 - accuracy: 0.8564\n",
            "Epoch 3/5\n",
            "188/188 [==============================] - 1s 4ms/step - loss: 0.4416 - accuracy: 0.8740\n",
            "Epoch 4/5\n",
            "188/188 [==============================] - 1s 4ms/step - loss: 0.4252 - accuracy: 0.8819\n",
            "Epoch 5/5\n",
            "188/188 [==============================] - 1s 4ms/step - loss: 0.4087 - accuracy: 0.8917\n",
            "375/375 [==============================] - 1s 2ms/step\n",
            "94/94 [==============================] - 0s 2ms/step\n",
            "Batch 3200, Training Accuracy: 0.9155, Test Accuracy: 0.9018\n",
            "Epoch 1/5\n",
            "188/188 [==============================] - 5s 13ms/step - loss: 0.6578 - accuracy: 0.7422\n",
            "Epoch 2/5\n",
            "188/188 [==============================] - 3s 14ms/step - loss: 0.4863 - accuracy: 0.8517\n",
            "Epoch 3/5\n",
            "188/188 [==============================] - 2s 10ms/step - loss: 0.4467 - accuracy: 0.8731\n",
            "Epoch 4/5\n",
            "188/188 [==============================] - 2s 9ms/step - loss: 0.4221 - accuracy: 0.8875\n",
            "Epoch 5/5\n",
            "188/188 [==============================] - 2s 10ms/step - loss: 0.4097 - accuracy: 0.8918\n",
            "375/375 [==============================] - 1s 2ms/step\n",
            "94/94 [==============================] - 0s 2ms/step\n",
            "Batch 4000, Training Accuracy: 0.9156, Test Accuracy: 0.9045\n",
            "Epoch 1/5\n",
            "188/188 [==============================] - 3s 5ms/step - loss: 0.6619 - accuracy: 0.7469\n",
            "Epoch 2/5\n",
            "188/188 [==============================] - 1s 5ms/step - loss: 0.4871 - accuracy: 0.8502\n",
            "Epoch 3/5\n",
            "188/188 [==============================] - 1s 5ms/step - loss: 0.4417 - accuracy: 0.8729\n",
            "Epoch 4/5\n",
            "188/188 [==============================] - 1s 5ms/step - loss: 0.4220 - accuracy: 0.8835\n",
            "Epoch 5/5\n",
            "188/188 [==============================] - 2s 8ms/step - loss: 0.4055 - accuracy: 0.8933\n",
            "375/375 [==============================] - 1s 2ms/step\n",
            "94/94 [==============================] - 0s 2ms/step\n",
            "Batch 4800, Training Accuracy: 0.9155, Test Accuracy: 0.9021\n",
            "Epoch 1/5\n",
            "188/188 [==============================] - 2s 5ms/step - loss: 0.6533 - accuracy: 0.7455\n",
            "Epoch 2/5\n",
            "188/188 [==============================] - 1s 5ms/step - loss: 0.4813 - accuracy: 0.8545\n",
            "Epoch 3/5\n",
            "188/188 [==============================] - 1s 5ms/step - loss: 0.4392 - accuracy: 0.8751\n",
            "Epoch 4/5\n",
            "188/188 [==============================] - 1s 7ms/step - loss: 0.4276 - accuracy: 0.8862\n",
            "Epoch 5/5\n",
            "188/188 [==============================] - 2s 8ms/step - loss: 0.4002 - accuracy: 0.8914\n",
            "375/375 [==============================] - 1s 3ms/step\n",
            "94/94 [==============================] - 0s 2ms/step\n",
            "Batch 5600, Training Accuracy: 0.9150, Test Accuracy: 0.9038\n",
            "Epoch 1/5\n",
            "188/188 [==============================] - 2s 4ms/step - loss: 0.6488 - accuracy: 0.7507\n",
            "Epoch 2/5\n",
            "188/188 [==============================] - 1s 4ms/step - loss: 0.4786 - accuracy: 0.8560\n",
            "Epoch 3/5\n",
            "188/188 [==============================] - 1s 4ms/step - loss: 0.4429 - accuracy: 0.8755\n",
            "Epoch 4/5\n",
            "188/188 [==============================] - 1s 4ms/step - loss: 0.4271 - accuracy: 0.8839\n",
            "Epoch 5/5\n",
            "188/188 [==============================] - 1s 4ms/step - loss: 0.4052 - accuracy: 0.8906\n",
            "375/375 [==============================] - 1s 2ms/step\n",
            "94/94 [==============================] - 0s 2ms/step\n",
            "Batch 6400, Training Accuracy: 0.9138, Test Accuracy: 0.9035\n",
            "Epoch 1/5\n",
            "188/188 [==============================] - 2s 4ms/step - loss: 0.6629 - accuracy: 0.7433\n",
            "Epoch 2/5\n",
            "188/188 [==============================] - 1s 4ms/step - loss: 0.4826 - accuracy: 0.8520\n",
            "Epoch 3/5\n",
            "188/188 [==============================] - 1s 5ms/step - loss: 0.4378 - accuracy: 0.8775\n",
            "Epoch 4/5\n",
            "188/188 [==============================] - 1s 7ms/step - loss: 0.4160 - accuracy: 0.8864\n",
            "Epoch 5/5\n",
            "188/188 [==============================] - 1s 8ms/step - loss: 0.4036 - accuracy: 0.8913\n",
            "375/375 [==============================] - 1s 2ms/step\n",
            "94/94 [==============================] - 0s 2ms/step\n",
            "Batch 7200, Training Accuracy: 0.9144, Test Accuracy: 0.9025\n",
            "Epoch 1/5\n",
            "188/188 [==============================] - 2s 4ms/step - loss: 0.6370 - accuracy: 0.7621\n",
            "Epoch 2/5\n",
            "188/188 [==============================] - 1s 4ms/step - loss: 0.4825 - accuracy: 0.8527\n",
            "Epoch 3/5\n",
            "188/188 [==============================] - 1s 4ms/step - loss: 0.4441 - accuracy: 0.8756\n",
            "Epoch 4/5\n",
            "188/188 [==============================] - 1s 4ms/step - loss: 0.4245 - accuracy: 0.8862\n",
            "Epoch 5/5\n",
            "188/188 [==============================] - 1s 4ms/step - loss: 0.4087 - accuracy: 0.8899\n",
            "375/375 [==============================] - 1s 2ms/step\n",
            "94/94 [==============================] - 0s 2ms/step\n",
            "Batch 8000, Training Accuracy: 0.9146, Test Accuracy: 0.9011\n"
          ]
        },
        {
          "output_type": "display_data",
          "data": {
            "text/plain": [
              "<Figure size 640x480 with 1 Axes>"
            ],
            "image/png": "[encoded data removed]"
          },
          "metadata": {}
        }
      ]
    },
    {
      "cell_type": "markdown",
      "source": [
        "Various_Metrics"
      ],
      "metadata": {
        "id": "d6a-LwpoRcmc"
      }
    },
    {
      "source": [
        "from sklearn.metrics import accuracy_score, precision_score, recall_score, f1_score, confusion_matrix\n",
        "\n",
        "# Calculate predictions if you haven't already\n",
        "# Assuming 'model' is your trained model\n",
        "y_pred = model.predict(X_test)\n",
        "y_pred = np.argmax(y_pred, axis=1)\n",
        "\n",
        "accuracy = accuracy_score(y_test, y_pred)\n",
        "print(\"Accuracy Score : \", accuracy)\n",
        "\n",
        "precision = precision_score(y_test, y_pred, average='weighted')\n",
        "print(\"Precision Score : \", precision)\n",
        "\n",
        "recall = recall_score(y_test, y_pred, average='weighted')\n",
        "print(\"Recall Score : \", recall)\n",
        "\n",
        "f1 = f1_score(y_test, y_pred, average='weighted')\n",
        "print (\"F1 Score : \", f1)\n",
        "\n",
        "conf_matrix = confusion_matrix(y_test, y_pred) # Use y_pred, not y_test_pred\n",
        "print (\"Confusion Matrix : \", conf_matrix)"
      ],
      "cell_type": "code",
      "metadata": {
        "colab": {
          "base_uri": "https://localhost:8080/"
        },
        "id": "sDk_pYKAeaey",
        "outputId": "daaff0a7-c607-420c-97f9-6801a6ef2c91"
      },
      "execution_count": 25,
      "outputs": [
        {
          "output_type": "stream",
          "name": "stdout",
          "text": [
            "94/94 [==============================] - 0s 2ms/step\n",
            "Accuracy Score :  0.9231796927187709\n",
            "Precision Score :  0.9232105596543337\n",
            "Recall Score :  0.9231796927187709\n",
            "F1 Score :  0.9231599879719026\n",
            "Confusion Matrix :  [[923  44  45]\n",
            " [ 40 920  36]\n",
            " [ 35  30 921]]\n"
          ]
        }
      ]
    },
    {
      "cell_type": "markdown",
      "source": [
        "Έγινε μίξη των δύο πργραμμάτων IDS_example και Lambda_IDS.Tο IDS_example.py δεν φορτωνόταν στο Colab το οποίο έδινε μήνυμα .Json parsing error.Αγνοώ γιατί,ίσως επειδή είναι .py και όχι .ipynb"
      ],
      "metadata": {
        "id": "v9rDrCpUlzTY"
      }
    }
  ]
}